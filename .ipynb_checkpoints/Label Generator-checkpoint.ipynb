{
 "cells": [
  {
   "cell_type": "code",
   "execution_count": 1,
   "metadata": {},
   "outputs": [
    {
     "ename": "ImportError",
     "evalue": "No module named requests",
     "output_type": "error",
     "traceback": [
      "\u001b[0;31m---------------------------------------------------------------------------\u001b[0m",
      "\u001b[0;31mImportError\u001b[0m                               Traceback (most recent call last)",
      "\u001b[0;32m<ipython-input-1-f009a640792c>\u001b[0m in \u001b[0;36m<module>\u001b[0;34m()\u001b[0m\n\u001b[0;32m----> 1\u001b[0;31m \u001b[0;32mimport\u001b[0m \u001b[0mrequests\u001b[0m\u001b[0;34m\u001b[0m\u001b[0m\n\u001b[0m\u001b[1;32m      2\u001b[0m \u001b[0;32mfrom\u001b[0m \u001b[0mpprint\u001b[0m \u001b[0;32mimport\u001b[0m \u001b[0mpprint\u001b[0m\u001b[0;34m\u001b[0m\u001b[0m\n\u001b[1;32m      3\u001b[0m \u001b[0;32mimport\u001b[0m \u001b[0mjson\u001b[0m\u001b[0;34m\u001b[0m\u001b[0m\n\u001b[1;32m      4\u001b[0m \u001b[0;32mimport\u001b[0m \u001b[0mpandas\u001b[0m \u001b[0;32mas\u001b[0m \u001b[0mpd\u001b[0m\u001b[0;34m\u001b[0m\u001b[0m\n\u001b[1;32m      5\u001b[0m \u001b[0;34m\u001b[0m\u001b[0m\n",
      "\u001b[0;31mImportError\u001b[0m: No module named requests"
     ]
    }
   ],
   "source": [
    "import requests\n",
    "from pprint import pprint\n",
    "import json\n",
    "import pandas as pd\n",
    "\n"
   ]
  },
  {
   "cell_type": "code",
   "execution_count": 2,
   "metadata": {},
   "outputs": [
    {
     "name": "stdout",
     "output_type": "stream",
     "text": [
      "/usr/bin/python\n"
     ]
    }
   ],
   "source": [
    "import sys \n",
    "print (sys.executable)\n"
   ]
  },
  {
   "cell_type": "code",
   "execution_count": 3,
   "metadata": {},
   "outputs": [],
   "source": [
    "# open text document with list of release ids and read in as string\n",
    "\n",
    "with open('release_ids.txt') as f:\n",
    "    file = f.read()\n",
    "# convert string to list of release ids\n",
    "record_list = file.split()\n",
    "\n",
    "# define url to request release id informtion\n",
    "app_url = 'https://api.discogs.com/releases/'\n",
    "\n",
    "# create a DataFrame to put release ids into\n",
    "master_df = pd.DataFrame()\n",
    "\n",
    "# for each release id in record list\n",
    "for record_id in record_list:\n",
    "    record_id = str(record_id)\n",
    "\n",
    "    # full request url\n",
    "    url = ''.join([app_url, record_id])\n",
    "\n",
    "    # discogs response (json formatted)\n",
    "    resp = requests.get(url)\n",
    "\n",
    "    #  convert response to json object\n",
    "    resp_json = json.loads(resp.text)\n",
    "\n",
    "    # artist\n",
    "    artist = resp_json['artists'][0]['name']\n",
    "\n",
    "    # title\n",
    "    title = resp_json['title']\n",
    "\n",
    "    # label\n",
    "    label = resp_json['labels'][0]['name']\n",
    "\n",
    "    # format\n",
    "    format_type = resp_json['formats'][0]['descriptions'][0]\n",
    "\n",
    "    # year of release\n",
    "    year = str(resp_json['year'])\n",
    "\n",
    "    # country\n",
    "    country = resp_json['country']\n",
    "\n",
    "    # put data in dictionary\n",
    "    record_data = {'record_id':[record_id],\n",
    "                  'artist': [artist],\n",
    "                  'title': [title],\n",
    "                  'label': [label],\n",
    "                  'format': [format_type],\n",
    "                  'year': [year],\n",
    "                  'country': [country]}\n",
    "     \n",
    "    # convert dictionary into DataFrame\n",
    "    df = pd.DataFrame.from_dict(record_data)\n",
    "    #     if the master data fram is empty\n",
    "    if master_df.empty:\n",
    "    #         turn the release id df to the master\n",
    "        master_df = df\n",
    "    \n",
    "    else:\n",
    "    #         if the master df exists, add the relase df to the master df\n",
    "        master_df = pd.concat([master_df, df])\n"
   ]
  },
  {
   "cell_type": "code",
   "execution_count": 4,
   "metadata": {},
   "outputs": [],
   "source": [
    "master_df.to_csv('test.csv')\n"
   ]
  },
  {
   "cell_type": "raw",
   "metadata": {},
   "source": [
    "print(master_df)"
   ]
  },
  {
   "cell_type": "code",
   "execution_count": 5,
   "metadata": {},
   "outputs": [
    {
     "data": {
      "text/plain": [
       "0    1309638\n",
       "0    1592161\n",
       "0    1237622\n",
       "0     348280\n",
       "Name: record_id, dtype: object"
      ]
     },
     "execution_count": 5,
     "metadata": {},
     "output_type": "execute_result"
    }
   ],
   "source": [
    "master_df['record_id']"
   ]
  }
 ],
 "metadata": {
  "kernelspec": {
   "display_name": "Python 2",
   "language": "python",
   "name": "python2"
  },
  "language_info": {
   "codemirror_mode": {
    "name": "ipython",
    "version": 2
   },
   "file_extension": ".py",
   "mimetype": "text/x-python",
   "name": "python",
   "nbconvert_exporter": "python",
   "pygments_lexer": "ipython2",
   "version": "2.7.17"
  }
 },
 "nbformat": 4,
 "nbformat_minor": 2
}
