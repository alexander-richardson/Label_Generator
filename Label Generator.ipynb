{
 "cells": [
  {
   "cell_type": "code",
   "execution_count": 9,
   "metadata": {},
   "outputs": [],
   "source": [
    "import requests\n",
    "from pprint import pprint\n",
    "import json\n",
    "import pandas as pd\n",
    "\n",
    ""
   ]
  },
  {
   "cell_type": "code",
   "execution_count": 10,
   "metadata": {},
   "outputs": [],
   "source": [
    "# open text document with list of release ids and read in as string\n",
    "\n",
    "with open('release_ids.txt') as f:\n",
    "    file = f.read()\n",
    "# convert string to list of release ids\n",
    "record_list = file.split()\n",
    "\n",
    "# define url to request release id informtion\n",
    "app_url = 'https://api.discogs.com/releases/'\n",
    "\n",
    "# create a DataFrame to put release ids into\n",
    "master_df = pd.DataFrame()\n",
    "\n",
    "# for each release id in record list\n",
    "for record_id in record_list:\n",
    "    record_id = str(record_id)\n",
    "\n",
    "    # full request url\n",
    "    url = ''.join([app_url, record_id])\n",
    "\n",
    "    # discogs response (json formatted)\n",
    "    resp = requests.get(url)\n",
    "\n",
    "    #  convert response to json object\n",
    "    resp_json = json.loads(resp.text)\n",
    "\n",
    "    # artist\n",
    "    artist = resp_json['artists'][0]['name']\n",
    "\n",
    "    # title\n",
    "    title = resp_json['title']\n",
    "\n",
    "    # label\n",
    "    label = resp_json['labels'][0]['name']\n",
    "\n",
    "    # format\n",
    "    format_type = resp_json['formats'][0]['descriptions'][0]\n",
    "\n",
    "    # year of release\n",
    "    year = str(resp_json['year'])\n",
    "\n",
    "    # country\n",
    "    country = resp_json['country']\n",
    "\n",
    "    # put data in dictionary\n",
    "    record_data = {'record_id':[record_id],\n",
    "                  'artist': [artist],\n",
    "                  'title': [title],\n",
    "                  'label': [label],\n",
    "                  'format': [format_type],\n",
    "                  'year': [year],\n",
    "                  'country': [country]}\n",
    "     \n",
    "    # convert dictionary into DataFrame\n",
    "    df = pd.DataFrame.from_dict(record_data)\n",
    "    #     if the master data fram is empty\n",
    "    if master_df.empty:\n",
    "    #         turn the release id df to the master\n",
    "        master_df = df\n",
    "    \n",
    "    else:\n",
    "    #         if the master df exists, add the relase df to the master df\n",
    "        master_df = pd.concat([master_df, df])\n",
    ""
   ]
  },
  {
   "cell_type": "code",
   "execution_count": 11,
   "metadata": {},
   "outputs": [
    {
     "output_type": "stream",
     "name": "stdout",
     "text": "record_id       artist                                     title  \\\n0   1309638  Imagination                                 Body Talk   \n0   1592161  Imagination                  In The Heat Of The Night   \n0   1237622  Imagination                                Scandalous   \n0  12222516           U2  Off The Record Specials With Mary Turner   \n\n           label format  year country  \n0  R & B Records     LP  1981      UK  \n0  R & B Records     LP  1982      UK  \n0  R & B Records     LP  1983      UK  \n0   Westwood One     LP  1983      US  \n"
    }
   ],
   "source": [
    "print(master_df)"
   ]
  },
  {
   "cell_type": "code",
   "execution_count": 12,
   "metadata": {},
   "outputs": [],
   "source": [
    "master_df.to_csv('test.csv')\n",
    ""
   ]
  },
  {
   "cell_type": "raw",
   "metadata": {},
   "source": [
    "print(master_df)"
   ]
  },
  {
   "cell_type": "code",
   "execution_count": 13,
   "metadata": {},
   "outputs": [
    {
     "output_type": "execute_result",
     "data": {
      "text/plain": "0     1309638\n0     1592161\n0     1237622\n0    12222516\nName: record_id, dtype: object"
     },
     "metadata": {},
     "execution_count": 13
    }
   ],
   "source": [
    "master_df['record_id']"
   ]
  }
 ],
 "metadata": {
  "kernelspec": {
   "display_name": "Python 3",
   "language": "python",
   "name": "python3"
  },
  "language_info": {
   "codemirror_mode": {
    "name": "ipython",
    "version": 3
   },
   "file_extension": ".py",
   "mimetype": "text/x-python",
   "name": "python",
   "nbconvert_exporter": "python",
   "pygments_lexer": "ipython3",
   "version": "2.7.17-final"
  }
 },
 "nbformat": 4,
 "nbformat_minor": 2
}